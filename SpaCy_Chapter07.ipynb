{
  "nbformat": 4,
  "nbformat_minor": 0,
  "metadata": {
    "colab": {
      "name": "SpaCy-Chapter07.ipynb",
      "provenance": []
    },
    "kernelspec": {
      "name": "python3",
      "display_name": "Python 3"
    }
  },
  "cells": [
    {
      "cell_type": "markdown",
      "metadata": {
        "id": "p7tmsCMrxmpV",
        "colab_type": "text"
      },
      "source": [
        "## chapter 7\n",
        "YKLEE\n"
      ]
    },
    {
      "cell_type": "markdown",
      "metadata": {
        "id": "ymwF7k5uyS24",
        "colab_type": "text"
      },
      "source": [
        "## Visualizing SpaCy"
      ]
    },
    {
      "cell_type": "code",
      "metadata": {
        "id": "pCGgMqW4yU1c",
        "colab_type": "code",
        "colab": {}
      },
      "source": [
        "import spacy"
      ],
      "execution_count": null,
      "outputs": []
    },
    {
      "cell_type": "code",
      "metadata": {
        "id": "1p-tLPrHyV0-",
        "colab_type": "code",
        "colab": {
          "base_uri": "https://localhost:8080/",
          "height": 523
        },
        "outputId": "b7995baa-8a48-492b-d7f1-9518c91a77ad"
      },
      "source": [
        "!python -m spacy download en # default English model (~50MB)\n"
      ],
      "execution_count": null,
      "outputs": [
        {
          "output_type": "stream",
          "text": [
            "Requirement already satisfied: en_core_web_sm==2.2.5 from https://github.com/explosion/spacy-models/releases/download/en_core_web_sm-2.2.5/en_core_web_sm-2.2.5.tar.gz#egg=en_core_web_sm==2.2.5 in /usr/local/lib/python3.6/dist-packages (2.2.5)\n",
            "Requirement already satisfied: spacy>=2.2.2 in /usr/local/lib/python3.6/dist-packages (from en_core_web_sm==2.2.5) (2.2.4)\n",
            "Requirement already satisfied: tqdm<5.0.0,>=4.38.0 in /usr/local/lib/python3.6/dist-packages (from spacy>=2.2.2->en_core_web_sm==2.2.5) (4.41.1)\n",
            "Requirement already satisfied: murmurhash<1.1.0,>=0.28.0 in /usr/local/lib/python3.6/dist-packages (from spacy>=2.2.2->en_core_web_sm==2.2.5) (1.0.2)\n",
            "Requirement already satisfied: catalogue<1.1.0,>=0.0.7 in /usr/local/lib/python3.6/dist-packages (from spacy>=2.2.2->en_core_web_sm==2.2.5) (1.0.0)\n",
            "Requirement already satisfied: numpy>=1.15.0 in /usr/local/lib/python3.6/dist-packages (from spacy>=2.2.2->en_core_web_sm==2.2.5) (1.18.5)\n",
            "Requirement already satisfied: blis<0.5.0,>=0.4.0 in /usr/local/lib/python3.6/dist-packages (from spacy>=2.2.2->en_core_web_sm==2.2.5) (0.4.1)\n",
            "Requirement already satisfied: srsly<1.1.0,>=1.0.2 in /usr/local/lib/python3.6/dist-packages (from spacy>=2.2.2->en_core_web_sm==2.2.5) (1.0.2)\n",
            "Requirement already satisfied: cymem<2.1.0,>=2.0.2 in /usr/local/lib/python3.6/dist-packages (from spacy>=2.2.2->en_core_web_sm==2.2.5) (2.0.3)\n",
            "Requirement already satisfied: thinc==7.4.0 in /usr/local/lib/python3.6/dist-packages (from spacy>=2.2.2->en_core_web_sm==2.2.5) (7.4.0)\n",
            "Requirement already satisfied: requests<3.0.0,>=2.13.0 in /usr/local/lib/python3.6/dist-packages (from spacy>=2.2.2->en_core_web_sm==2.2.5) (2.23.0)\n",
            "Requirement already satisfied: plac<1.2.0,>=0.9.6 in /usr/local/lib/python3.6/dist-packages (from spacy>=2.2.2->en_core_web_sm==2.2.5) (1.1.3)\n",
            "Requirement already satisfied: setuptools in /usr/local/lib/python3.6/dist-packages (from spacy>=2.2.2->en_core_web_sm==2.2.5) (47.3.1)\n",
            "Requirement already satisfied: preshed<3.1.0,>=3.0.2 in /usr/local/lib/python3.6/dist-packages (from spacy>=2.2.2->en_core_web_sm==2.2.5) (3.0.2)\n",
            "Requirement already satisfied: wasabi<1.1.0,>=0.4.0 in /usr/local/lib/python3.6/dist-packages (from spacy>=2.2.2->en_core_web_sm==2.2.5) (0.7.0)\n",
            "Requirement already satisfied: importlib-metadata>=0.20; python_version < \"3.8\" in /usr/local/lib/python3.6/dist-packages (from catalogue<1.1.0,>=0.0.7->spacy>=2.2.2->en_core_web_sm==2.2.5) (1.6.1)\n",
            "Requirement already satisfied: certifi>=2017.4.17 in /usr/local/lib/python3.6/dist-packages (from requests<3.0.0,>=2.13.0->spacy>=2.2.2->en_core_web_sm==2.2.5) (2020.6.20)\n",
            "Requirement already satisfied: chardet<4,>=3.0.2 in /usr/local/lib/python3.6/dist-packages (from requests<3.0.0,>=2.13.0->spacy>=2.2.2->en_core_web_sm==2.2.5) (3.0.4)\n",
            "Requirement already satisfied: urllib3!=1.25.0,!=1.25.1,<1.26,>=1.21.1 in /usr/local/lib/python3.6/dist-packages (from requests<3.0.0,>=2.13.0->spacy>=2.2.2->en_core_web_sm==2.2.5) (1.24.3)\n",
            "Requirement already satisfied: idna<3,>=2.5 in /usr/local/lib/python3.6/dist-packages (from requests<3.0.0,>=2.13.0->spacy>=2.2.2->en_core_web_sm==2.2.5) (2.9)\n",
            "Requirement already satisfied: zipp>=0.5 in /usr/local/lib/python3.6/dist-packages (from importlib-metadata>=0.20; python_version < \"3.8\"->catalogue<1.1.0,>=0.0.7->spacy>=2.2.2->en_core_web_sm==2.2.5) (3.1.0)\n",
            "\u001b[38;5;2m✔ Download and installation successful\u001b[0m\n",
            "You can now load the model via spacy.load('en_core_web_sm')\n",
            "\u001b[38;5;2m✔ Linking successful\u001b[0m\n",
            "/usr/local/lib/python3.6/dist-packages/en_core_web_sm -->\n",
            "/usr/local/lib/python3.6/dist-packages/spacy/data/en\n",
            "You can now load the model via spacy.load('en')\n"
          ],
          "name": "stdout"
        }
      ]
    },
    {
      "cell_type": "code",
      "metadata": {
        "id": "iRqjpiTPyX8N",
        "colab_type": "code",
        "colab": {}
      },
      "source": [
        "nlp = spacy.load('en') #for Korean, use 'ko'"
      ],
      "execution_count": null,
      "outputs": []
    },
    {
      "cell_type": "code",
      "metadata": {
        "id": "zFzyn9H7yaIV",
        "colab_type": "code",
        "colab": {}
      },
      "source": [
        ""
      ],
      "execution_count": null,
      "outputs": []
    },
    {
      "cell_type": "markdown",
      "metadata": {
        "id": "L7rzOgk_yawe",
        "colab_type": "text"
      },
      "source": [
        "Did you know? \n",
        "\n",
        "SpaCy has displaCy dependency visualizer: \n",
        "https://explosion.ai/demos/\n",
        "\n",
        "The displaCy dependency visualizer generates a syntactic dependency visualization for a submitted text\n",
        "\n"
      ]
    },
    {
      "cell_type": "markdown",
      "metadata": {
        "id": "NJq8ByGJv1ZZ",
        "colab_type": "text"
      },
      "source": [
        "Using Named Entity Visulizer Options\n",
        "\n",
        "'ents' option을 쓰면 entity type을 하이라이트하고 디폴트 컬러를 'colors'옵션으로 오버라이드 가능. "
      ]
    },
    {
      "cell_type": "markdown",
      "metadata": {
        "id": "64YHoq3qwjBn",
        "colab_type": "text"
      },
      "source": [
        "doc.user_data <- user_data는 Doc의 타이틀을 정할 수 있다. 이건 비주얼라이저가 자동으로 타이틀로 넣어줌. \n",
        "\n",
        "\n",
        "style parameter of 'display.serve()' to 'ent' => displaCy가 named entity visualizer를 쓰게 함. \n",
        "\n"
      ]
    },
    {
      "cell_type": "code",
      "metadata": {
        "id": "VdggAcKswCwZ",
        "colab_type": "code",
        "colab": {
          "base_uri": "https://localhost:8080/",
          "height": 102
        },
        "outputId": "bb812a76-84ae-4969-a8ff-d935872787c2"
      },
      "source": [
        "import spacy\n",
        "nlp=spacy.load('en')\n",
        "doc = nlp(u\"In 2011, Google launched Google +, its fourth foray into social networking\")\n",
        "\n",
        "doc.user_data['title'] = \"An example of an entity visualization\"\n",
        "\n",
        "from spacy import displacy\n",
        "displacy.serve(doc, style = 'ent')"
      ],
      "execution_count": 1,
      "outputs": [
        {
          "output_type": "stream",
          "text": [
            "\n",
            "Using the 'ent' visualizer\n",
            "Serving on http://0.0.0.0:5000 ...\n",
            "\n",
            "Shutting down server on port 5000.\n"
          ],
          "name": "stdout"
        }
      ]
    },
    {
      "cell_type": "code",
      "metadata": {
        "id": "MjrsIYJDweKH",
        "colab_type": "code",
        "colab": {
          "base_uri": "https://localhost:8080/",
          "height": 102
        },
        "outputId": "cb117a72-4a76-423d-d48c-6672fe0bc442"
      },
      "source": [
        "#visualizer shouldn't recognize any entities except for those that of the ORG, PRODUCT, or DATE type\n",
        "\n",
        "options = {'ents':[\"ORG\",\"PRODUCT\",\"DATE\"], \n",
        "           'colors':{\"ORG\": \"aqua\",\n",
        "                     \"PRODUCT\":\"aqua\"}}\n",
        "\n",
        "#map the ORG and PRODUCT types to the color 'aqua'\n",
        "displacy.serve(doc,style='ent',options=options)"
      ],
      "execution_count": 3,
      "outputs": [
        {
          "output_type": "stream",
          "text": [
            "\n",
            "Using the 'ent' visualizer\n",
            "Serving on http://0.0.0.0:5000 ...\n",
            "\n",
            "Shutting down server on port 5000.\n"
          ],
          "name": "stdout"
        }
      ]
    },
    {
      "cell_type": "code",
      "metadata": {
        "id": "oExxDioQxGCs",
        "colab_type": "code",
        "colab": {}
      },
      "source": [
        ""
      ],
      "execution_count": null,
      "outputs": []
    },
    {
      "cell_type": "markdown",
      "metadata": {
        "id": "Vm12LCfe8jUz",
        "colab_type": "text"
      },
      "source": [
        "Exporting a visualization to a file\n",
        "\n",
        "파일로 추출\n",
        "\n"
      ]
    },
    {
      "cell_type": "code",
      "metadata": {
        "id": "dhxfeVXb8l1f",
        "colab_type": "code",
        "colab": {}
      },
      "source": [
        "import spacy\n",
        "nlp = spacy.load('en')\n",
        "doc = nlp(u\"In 2011, Google launched Google +, its fourth foray into social networking.\")\n",
        "\n",
        "doc.user_data[\"title\"] = \"An example of an entity visualization\""
      ],
      "execution_count": 6,
      "outputs": []
    },
    {
      "cell_type": "code",
      "metadata": {
        "id": "j0WV_Vmc81hV",
        "colab_type": "code",
        "colab": {}
      },
      "source": [
        "from spacy import displacy"
      ],
      "execution_count": 7,
      "outputs": []
    },
    {
      "cell_type": "code",
      "metadata": {
        "id": "S1LfkeFd9Cpe",
        "colab_type": "code",
        "colab": {}
      },
      "source": [
        "html = displacy.render(doc, style='ent',page=True)"
      ],
      "execution_count": 8,
      "outputs": []
    },
    {
      "cell_type": "code",
      "metadata": {
        "id": "Z44ZQybe9GN-",
        "colab_type": "code",
        "colab": {}
      },
      "source": [
        "from pathlib import Path\n",
        "\n",
        "output_path = Path(\"/visualizations/ent_visual.html\")"
      ],
      "execution_count": 11,
      "outputs": []
    },
    {
      "cell_type": "code",
      "metadata": {
        "id": "yrrALXGV9TsG",
        "colab_type": "code",
        "colab": {}
      },
      "source": [
        "output_path.open(\"w\",encoding=\"utf-8\").write(html)"
      ],
      "execution_count": null,
      "outputs": []
    },
    {
      "cell_type": "markdown",
      "metadata": {
        "id": "XSWd_eIq9p3U",
        "colab_type": "text"
      },
      "source": [
        "Using displacy to manually render data"
      ]
    },
    {
      "cell_type": "markdown",
      "metadata": {
        "id": "tCUb0WcQ9u3J",
        "colab_type": "text"
      },
      "source": [
        "formatting the data"
      ]
    },
    {
      "cell_type": "code",
      "metadata": {
        "id": "_tNJbNvU9tJw",
        "colab_type": "code",
        "colab": {}
      },
      "source": [
        "sent = {\n",
        "    \"words\":[\n",
        "      {\"text\": \"I\", \"tag\": \"PRON\"},\n",
        "        {\"text\": \"want\", \"tag\": \"VERB\"},\n",
        "        {\"text\": \"a\", \"tag\": \"DET\"},\n",
        "        {\"text\": \"Greek\", \"tag\": \"ADJ\"},\n",
        "        {\"text\": \"pizza\", \"tag\": \"NOUN\"}\n",
        "    ],\n",
        "     \"arcs\": [\n",
        "      {\"start\": 0, \"end\": 1, \"label\": \"nsubj\", \"dir\": \"left\"},\n",
        "        {\"start\": 2, \"end\": 4, \"label\": \"det\", \"dir\": \"left\"},\n",
        "        {\"start\": 3, \"end\": 4, \"label\": \"amod\", \"dir\": \"left\"},\n",
        "        {\"start\": 1, \"end\": 4, \"label\": \"dobj\", \"dir\": \"right\"}\n",
        "    ]\n",
        "}"
      ],
      "execution_count": null,
      "outputs": []
    },
    {
      "cell_type": "code",
      "metadata": {
        "id": "v2ORsWan90nn",
        "colab_type": "code",
        "colab": {}
      },
      "source": [
        ""
      ],
      "execution_count": null,
      "outputs": []
    }
  ]
}